{
 "cells": [
  {
   "cell_type": "code",
   "execution_count": 2,
   "id": "b22ccd3e",
   "metadata": {},
   "outputs": [],
   "source": [
    "import cv2\n",
    "from yolo_predictions import YOLO_Pred"
   ]
  },
  {
   "cell_type": "code",
   "execution_count": 4,
   "id": "aae7f92a",
   "metadata": {},
   "outputs": [],
   "source": [
    "yolo = YOLO_Pred('./Model/weights/best.onnx','data.yaml')"
   ]
  },
  {
   "cell_type": "code",
   "execution_count": null,
   "id": "d13ba8d8",
   "metadata": {},
   "outputs": [
    {
     "name": "stdout",
     "output_type": "stream",
     "text": [
      "./test_images\\Alligator mound- ohio.png\n",
      "./test_images\\Eagle mound-ohio.png\n",
      "./test_images\\Glenford fort- ohio.png\n",
      "./test_images\\Hartman mound.png\n",
      "./test_images\\Jeffer Mound-ohio.png\n",
      "./test_images\\Nettle lake mound-ohio.png\n"
     ]
    }
   ],
   "source": [
    "import os\n",
    "import cv2\n",
    "folder_path = './test_images'\n",
    "file_list = os.listdir(folder_path)\n",
    "image_files = [file for file in file_list if file.lower().endswith(('.png', '.jpg', '.jpeg'))]\n",
    "flag=0\n",
    "for image_file in image_files:\n",
    "        \n",
    "        image_path = os.path.join(folder_path, image_file)\n",
    "        print(image_path)\n",
    "        image = cv2.imread(image_path)\n",
    "        if image is not None:\n",
    "            cv2.imshow('Image', image)\n",
    "            cv2.waitKey(0)\n",
    "            cv2.destroyAllWindows()\n",
    "            img_pred = yolo.predictions(image)\n",
    "            cv2.imshow('prediction image',img_pred)\n",
    "            cv2.waitKey(0)\n",
    "            cv2.destroyAllWindows()\n",
    "            key = cv2.waitKey(0)\n",
    "            \n",
    "        else:\n",
    "            print(f\"Error: Unable to load image '{image_path}'\")\n",
    "cv2.destroyAllWindows()\n"
   ]
  },
  {
   "cell_type": "code",
   "execution_count": null,
   "id": "83d7a031",
   "metadata": {},
   "outputs": [],
   "source": []
  },
  {
   "cell_type": "code",
   "execution_count": null,
   "id": "e60a09cf",
   "metadata": {},
   "outputs": [],
   "source": []
  },
  {
   "cell_type": "code",
   "execution_count": null,
   "id": "d009a495",
   "metadata": {},
   "outputs": [],
   "source": []
  }
 ],
 "metadata": {
  "kernelspec": {
   "display_name": "Python 3",
   "language": "python",
   "name": "python3"
  },
  "language_info": {
   "codemirror_mode": {
    "name": "ipython",
    "version": 3
   },
   "file_extension": ".py",
   "mimetype": "text/x-python",
   "name": "python",
   "nbconvert_exporter": "python",
   "pygments_lexer": "ipython3",
   "version": "3.8.8"
  }
 },
 "nbformat": 4,
 "nbformat_minor": 5
}
