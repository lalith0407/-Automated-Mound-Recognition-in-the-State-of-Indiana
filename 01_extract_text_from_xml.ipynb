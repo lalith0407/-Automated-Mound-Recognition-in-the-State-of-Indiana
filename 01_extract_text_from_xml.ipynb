{
 "cells": [
  {
   "cell_type": "code",
   "execution_count": 1,
   "id": "dae8c8ce",
   "metadata": {},
   "outputs": [],
   "source": [
    "import os\n",
    "from glob import glob \n",
    "import pandas as pd \n",
    "from xml.etree import ElementTree as et \n",
    "from functools import reduce"
   ]
  },
  {
   "cell_type": "code",
   "execution_count": 2,
   "id": "e6765cbd",
   "metadata": {},
   "outputs": [],
   "source": [
    "import warnings\n",
    "warnings.filterwarnings('ignore')"
   ]
  },
  {
   "cell_type": "code",
   "execution_count": 11,
   "id": "12e403f7",
   "metadata": {},
   "outputs": [],
   "source": [
    "xmlfiles = glob('./data_images/*.xml')\n",
    "replace_text = lambda x: x.replace('\\\\','/')\n",
    "xmlfiles = list(map(replace_text,xmlfiles))"
   ]
  },
  {
   "cell_type": "code",
   "execution_count": null,
   "id": "2fdb0bdf",
   "metadata": {},
   "outputs": [],
   "source": [
    "xmlfiles"
   ]
  },
  {
   "cell_type": "code",
   "execution_count": 14,
   "id": "a71177ca-a6dc-4dcc-9461-e0b427ed3a71",
   "metadata": {},
   "outputs": [
    {
     "name": "stdout",
     "output_type": "stream",
     "text": [
      "yorktown1._rotated2.jpg\n"
     ]
    }
   ],
   "source": [
    "tree = et.parse('./data_images/yorktown1._rotated2.xml')\n",
    "root = tree.getroot()\n",
    "image_name = root.find('filename').text\n",
    "print(image_name)"
   ]
  },
  {
   "cell_type": "code",
   "execution_count": 15,
   "id": "637406f6",
   "metadata": {},
   "outputs": [],
   "source": [
    "\n",
    "def extract_text(filename):\n",
    "    tree = et.parse(filename)\n",
    "    root = tree.getroot()\n",
    "    image_name = root.find('filename').text\n",
    "    width = root.find('size').find('width').text\n",
    "    height = root.find('size').find('height').text\n",
    "    objs = root.findall('object')\n",
    "    parser = []\n",
    "    for obj in objs:\n",
    "        name = obj.find('name').text\n",
    "        bndbox = obj.find('bndbox')\n",
    "        xmin = bndbox.find('xmin').text\n",
    "        xmax = bndbox.find('xmax').text\n",
    "        ymin = bndbox.find('ymin').text\n",
    "        ymax = bndbox.find('ymax').text\n",
    "        parser.append([image_name, width, height, name,xmin,xmax,ymin,ymax])\n",
    "        \n",
    "    return parser"
   ]
  },
  {
   "cell_type": "code",
   "execution_count": 16,
   "id": "8a56e31b",
   "metadata": {},
   "outputs": [],
   "source": [
    "parser_all = list(map(extract_text,xmlfiles))"
   ]
  },
  {
   "cell_type": "code",
   "execution_count": null,
   "id": "34148e64-df86-4f41-a828-03ef5fcdb28a",
   "metadata": {},
   "outputs": [],
   "source": [
    "parser_all"
   ]
  },
  {
   "cell_type": "code",
   "execution_count": 17,
   "id": "c638a326",
   "metadata": {},
   "outputs": [],
   "source": [
    "data = reduce(lambda x, y : x+y,parser_all)"
   ]
  },
  {
   "cell_type": "code",
   "execution_count": 19,
   "id": "5b48c0a7",
   "metadata": {},
   "outputs": [],
   "source": [
    "df = pd.DataFrame(data,columns = ['filename','width','height','name','xmin','xmax','ymin','ymax'])"
   ]
  },
  {
   "cell_type": "code",
   "execution_count": 20,
   "id": "7129360a",
   "metadata": {},
   "outputs": [
    {
     "data": {
      "text/html": [
       "<div>\n",
       "<style scoped>\n",
       "    .dataframe tbody tr th:only-of-type {\n",
       "        vertical-align: middle;\n",
       "    }\n",
       "\n",
       "    .dataframe tbody tr th {\n",
       "        vertical-align: top;\n",
       "    }\n",
       "\n",
       "    .dataframe thead th {\n",
       "        text-align: right;\n",
       "    }\n",
       "</style>\n",
       "<table border=\"1\" class=\"dataframe\">\n",
       "  <thead>\n",
       "    <tr style=\"text-align: right;\">\n",
       "      <th></th>\n",
       "      <th>filename</th>\n",
       "      <th>width</th>\n",
       "      <th>height</th>\n",
       "      <th>name</th>\n",
       "      <th>xmin</th>\n",
       "      <th>xmax</th>\n",
       "      <th>ymin</th>\n",
       "      <th>ymax</th>\n",
       "    </tr>\n",
       "  </thead>\n",
       "  <tbody>\n",
       "    <tr>\n",
       "      <th>0</th>\n",
       "      <td>anderson1.jpeg</td>\n",
       "      <td>971</td>\n",
       "      <td>882</td>\n",
       "      <td>mound</td>\n",
       "      <td>422</td>\n",
       "      <td>490</td>\n",
       "      <td>424</td>\n",
       "      <td>460</td>\n",
       "    </tr>\n",
       "    <tr>\n",
       "      <th>1</th>\n",
       "      <td>anderson1.jpeg</td>\n",
       "      <td>971</td>\n",
       "      <td>882</td>\n",
       "      <td>mound</td>\n",
       "      <td>417</td>\n",
       "      <td>458</td>\n",
       "      <td>465</td>\n",
       "      <td>522</td>\n",
       "    </tr>\n",
       "    <tr>\n",
       "      <th>2</th>\n",
       "      <td>anderson1.jpeg</td>\n",
       "      <td>971</td>\n",
       "      <td>882</td>\n",
       "      <td>mound</td>\n",
       "      <td>462</td>\n",
       "      <td>488</td>\n",
       "      <td>463</td>\n",
       "      <td>526</td>\n",
       "    </tr>\n",
       "    <tr>\n",
       "      <th>3</th>\n",
       "      <td>anderson1._rotated.jpg</td>\n",
       "      <td>882</td>\n",
       "      <td>971</td>\n",
       "      <td>mound</td>\n",
       "      <td>433</td>\n",
       "      <td>457</td>\n",
       "      <td>493</td>\n",
       "      <td>533</td>\n",
       "    </tr>\n",
       "    <tr>\n",
       "      <th>4</th>\n",
       "      <td>anderson1._rotated.jpg</td>\n",
       "      <td>882</td>\n",
       "      <td>971</td>\n",
       "      <td>mound</td>\n",
       "      <td>464</td>\n",
       "      <td>518</td>\n",
       "      <td>514</td>\n",
       "      <td>548</td>\n",
       "    </tr>\n",
       "  </tbody>\n",
       "</table>\n",
       "</div>"
      ],
      "text/plain": [
       "                 filename width height   name xmin xmax ymin ymax\n",
       "0          anderson1.jpeg   971    882  mound  422  490  424  460\n",
       "1          anderson1.jpeg   971    882  mound  417  458  465  522\n",
       "2          anderson1.jpeg   971    882  mound  462  488  463  526\n",
       "3  anderson1._rotated.jpg   882    971  mound  433  457  493  533\n",
       "4  anderson1._rotated.jpg   882    971  mound  464  518  514  548"
      ]
     },
     "execution_count": 20,
     "metadata": {},
     "output_type": "execute_result"
    }
   ],
   "source": [
    "df.head()"
   ]
  },
  {
   "cell_type": "code",
   "execution_count": 21,
   "id": "f85e4ba4",
   "metadata": {},
   "outputs": [
    {
     "data": {
      "text/plain": [
       "(308, 8)"
      ]
     },
     "execution_count": 21,
     "metadata": {},
     "output_type": "execute_result"
    }
   ],
   "source": [
    "df.shape"
   ]
  },
  {
   "cell_type": "code",
   "execution_count": 22,
   "id": "4c7549c4",
   "metadata": {},
   "outputs": [
    {
     "data": {
      "text/plain": [
       "mound    308\n",
       "Name: name, dtype: int64"
      ]
     },
     "execution_count": 22,
     "metadata": {},
     "output_type": "execute_result"
    }
   ],
   "source": [
    "df['name'].value_counts()"
   ]
  },
  {
   "cell_type": "code",
   "execution_count": 23,
   "id": "0d2ca3d1",
   "metadata": {},
   "outputs": [
    {
     "name": "stdout",
     "output_type": "stream",
     "text": [
      "<class 'pandas.core.frame.DataFrame'>\n",
      "RangeIndex: 308 entries, 0 to 307\n",
      "Data columns (total 8 columns):\n",
      " #   Column    Non-Null Count  Dtype \n",
      "---  ------    --------------  ----- \n",
      " 0   filename  308 non-null    object\n",
      " 1   width     308 non-null    object\n",
      " 2   height    308 non-null    object\n",
      " 3   name      308 non-null    object\n",
      " 4   xmin      308 non-null    object\n",
      " 5   xmax      308 non-null    object\n",
      " 6   ymin      308 non-null    object\n",
      " 7   ymax      308 non-null    object\n",
      "dtypes: object(8)\n",
      "memory usage: 19.4+ KB\n"
     ]
    }
   ],
   "source": [
    "df.info()"
   ]
  },
  {
   "cell_type": "code",
   "execution_count": 24,
   "id": "66662853",
   "metadata": {},
   "outputs": [
    {
     "name": "stdout",
     "output_type": "stream",
     "text": [
      "<class 'pandas.core.frame.DataFrame'>\n",
      "RangeIndex: 308 entries, 0 to 307\n",
      "Data columns (total 8 columns):\n",
      " #   Column    Non-Null Count  Dtype \n",
      "---  ------    --------------  ----- \n",
      " 0   filename  308 non-null    object\n",
      " 1   width     308 non-null    int32 \n",
      " 2   height    308 non-null    int32 \n",
      " 3   name      308 non-null    object\n",
      " 4   xmin      308 non-null    int32 \n",
      " 5   xmax      308 non-null    int32 \n",
      " 6   ymin      308 non-null    int32 \n",
      " 7   ymax      308 non-null    int32 \n",
      "dtypes: int32(6), object(2)\n",
      "memory usage: 12.2+ KB\n"
     ]
    }
   ],
   "source": [
    "cols = ['width','height','xmin','xmax','ymin','ymax']\n",
    "df[cols] = df[cols].astype(int)\n",
    "df.info()"
   ]
  },
  {
   "cell_type": "code",
   "execution_count": 25,
   "id": "4bac6ec8",
   "metadata": {},
   "outputs": [],
   "source": [
    "df['center_x'] = ((df['xmax']+df['xmin'])/2)/df['width']\n",
    "df['center_y'] = ((df['ymax']+df['ymin'])/2)/df['height']\n",
    "df['w'] = (df['xmax']-df['xmin'])/df['width']\n",
    "df['h'] = (df['ymax']-df['ymin'])/df['height']"
   ]
  },
  {
   "cell_type": "code",
   "execution_count": 26,
   "id": "8c88f35d",
   "metadata": {},
   "outputs": [
    {
     "data": {
      "text/html": [
       "<div>\n",
       "<style scoped>\n",
       "    .dataframe tbody tr th:only-of-type {\n",
       "        vertical-align: middle;\n",
       "    }\n",
       "\n",
       "    .dataframe tbody tr th {\n",
       "        vertical-align: top;\n",
       "    }\n",
       "\n",
       "    .dataframe thead th {\n",
       "        text-align: right;\n",
       "    }\n",
       "</style>\n",
       "<table border=\"1\" class=\"dataframe\">\n",
       "  <thead>\n",
       "    <tr style=\"text-align: right;\">\n",
       "      <th></th>\n",
       "      <th>filename</th>\n",
       "      <th>width</th>\n",
       "      <th>height</th>\n",
       "      <th>name</th>\n",
       "      <th>xmin</th>\n",
       "      <th>xmax</th>\n",
       "      <th>ymin</th>\n",
       "      <th>ymax</th>\n",
       "      <th>center_x</th>\n",
       "      <th>center_y</th>\n",
       "      <th>w</th>\n",
       "      <th>h</th>\n",
       "    </tr>\n",
       "  </thead>\n",
       "  <tbody>\n",
       "    <tr>\n",
       "      <th>0</th>\n",
       "      <td>anderson1.jpeg</td>\n",
       "      <td>971</td>\n",
       "      <td>882</td>\n",
       "      <td>mound</td>\n",
       "      <td>422</td>\n",
       "      <td>490</td>\n",
       "      <td>424</td>\n",
       "      <td>460</td>\n",
       "      <td>0.469619</td>\n",
       "      <td>0.501134</td>\n",
       "      <td>0.070031</td>\n",
       "      <td>0.040816</td>\n",
       "    </tr>\n",
       "    <tr>\n",
       "      <th>1</th>\n",
       "      <td>anderson1.jpeg</td>\n",
       "      <td>971</td>\n",
       "      <td>882</td>\n",
       "      <td>mound</td>\n",
       "      <td>417</td>\n",
       "      <td>458</td>\n",
       "      <td>465</td>\n",
       "      <td>522</td>\n",
       "      <td>0.450566</td>\n",
       "      <td>0.559524</td>\n",
       "      <td>0.042225</td>\n",
       "      <td>0.064626</td>\n",
       "    </tr>\n",
       "    <tr>\n",
       "      <th>2</th>\n",
       "      <td>anderson1.jpeg</td>\n",
       "      <td>971</td>\n",
       "      <td>882</td>\n",
       "      <td>mound</td>\n",
       "      <td>462</td>\n",
       "      <td>488</td>\n",
       "      <td>463</td>\n",
       "      <td>526</td>\n",
       "      <td>0.489186</td>\n",
       "      <td>0.560658</td>\n",
       "      <td>0.026777</td>\n",
       "      <td>0.071429</td>\n",
       "    </tr>\n",
       "    <tr>\n",
       "      <th>3</th>\n",
       "      <td>anderson1._rotated.jpg</td>\n",
       "      <td>882</td>\n",
       "      <td>971</td>\n",
       "      <td>mound</td>\n",
       "      <td>433</td>\n",
       "      <td>457</td>\n",
       "      <td>493</td>\n",
       "      <td>533</td>\n",
       "      <td>0.504535</td>\n",
       "      <td>0.528321</td>\n",
       "      <td>0.027211</td>\n",
       "      <td>0.041195</td>\n",
       "    </tr>\n",
       "    <tr>\n",
       "      <th>4</th>\n",
       "      <td>anderson1._rotated.jpg</td>\n",
       "      <td>882</td>\n",
       "      <td>971</td>\n",
       "      <td>mound</td>\n",
       "      <td>464</td>\n",
       "      <td>518</td>\n",
       "      <td>514</td>\n",
       "      <td>548</td>\n",
       "      <td>0.556689</td>\n",
       "      <td>0.546859</td>\n",
       "      <td>0.061224</td>\n",
       "      <td>0.035015</td>\n",
       "    </tr>\n",
       "  </tbody>\n",
       "</table>\n",
       "</div>"
      ],
      "text/plain": [
       "                 filename  width  height   name  xmin  xmax  ymin  ymax  \\\n",
       "0          anderson1.jpeg    971     882  mound   422   490   424   460   \n",
       "1          anderson1.jpeg    971     882  mound   417   458   465   522   \n",
       "2          anderson1.jpeg    971     882  mound   462   488   463   526   \n",
       "3  anderson1._rotated.jpg    882     971  mound   433   457   493   533   \n",
       "4  anderson1._rotated.jpg    882     971  mound   464   518   514   548   \n",
       "\n",
       "   center_x  center_y         w         h  \n",
       "0  0.469619  0.501134  0.070031  0.040816  \n",
       "1  0.450566  0.559524  0.042225  0.064626  \n",
       "2  0.489186  0.560658  0.026777  0.071429  \n",
       "3  0.504535  0.528321  0.027211  0.041195  \n",
       "4  0.556689  0.546859  0.061224  0.035015  "
      ]
     },
     "execution_count": 26,
     "metadata": {},
     "output_type": "execute_result"
    }
   ],
   "source": [
    "df.head()"
   ]
  },
  {
   "cell_type": "code",
   "execution_count": 27,
   "id": "34418a9f",
   "metadata": {},
   "outputs": [],
   "source": [
    "images = df['filename'].unique()"
   ]
  },
  {
   "cell_type": "code",
   "execution_count": 28,
   "id": "97f2ac70",
   "metadata": {},
   "outputs": [
    {
     "data": {
      "text/plain": [
       "136"
      ]
     },
     "execution_count": 28,
     "metadata": {},
     "output_type": "execute_result"
    }
   ],
   "source": [
    "len(images)"
   ]
  },
  {
   "cell_type": "code",
   "execution_count": 29,
   "id": "ae015555",
   "metadata": {},
   "outputs": [],
   "source": [
    "\n",
    "img_df = pd.DataFrame(images,columns=['filename'])\n",
    "img_train = tuple(img_df.sample(frac=0.8)['filename']) "
   ]
  },
  {
   "cell_type": "code",
   "execution_count": 30,
   "id": "6afd160f",
   "metadata": {},
   "outputs": [],
   "source": [
    "img_test = tuple(img_df.query(f'filename not in {img_train}')['filename']) # take rest 20% images"
   ]
  },
  {
   "cell_type": "code",
   "execution_count": 31,
   "id": "17febae7",
   "metadata": {},
   "outputs": [
    {
     "data": {
      "text/plain": [
       "(109, 27)"
      ]
     },
     "execution_count": 31,
     "metadata": {},
     "output_type": "execute_result"
    }
   ],
   "source": [
    "len(img_train), len(img_test)"
   ]
  },
  {
   "cell_type": "code",
   "execution_count": 32,
   "id": "f7f4614c",
   "metadata": {},
   "outputs": [],
   "source": [
    "train_df = df.query(f'filename in {img_train}')\n",
    "test_df = df.query(f'filename in {img_test}')"
   ]
  },
  {
   "cell_type": "code",
   "execution_count": 33,
   "id": "cf16e06f",
   "metadata": {},
   "outputs": [
    {
     "data": {
      "text/html": [
       "<div>\n",
       "<style scoped>\n",
       "    .dataframe tbody tr th:only-of-type {\n",
       "        vertical-align: middle;\n",
       "    }\n",
       "\n",
       "    .dataframe tbody tr th {\n",
       "        vertical-align: top;\n",
       "    }\n",
       "\n",
       "    .dataframe thead th {\n",
       "        text-align: right;\n",
       "    }\n",
       "</style>\n",
       "<table border=\"1\" class=\"dataframe\">\n",
       "  <thead>\n",
       "    <tr style=\"text-align: right;\">\n",
       "      <th></th>\n",
       "      <th>filename</th>\n",
       "      <th>width</th>\n",
       "      <th>height</th>\n",
       "      <th>name</th>\n",
       "      <th>xmin</th>\n",
       "      <th>xmax</th>\n",
       "      <th>ymin</th>\n",
       "      <th>ymax</th>\n",
       "      <th>center_x</th>\n",
       "      <th>center_y</th>\n",
       "      <th>w</th>\n",
       "      <th>h</th>\n",
       "    </tr>\n",
       "  </thead>\n",
       "  <tbody>\n",
       "    <tr>\n",
       "      <th>0</th>\n",
       "      <td>anderson1.jpeg</td>\n",
       "      <td>971</td>\n",
       "      <td>882</td>\n",
       "      <td>mound</td>\n",
       "      <td>422</td>\n",
       "      <td>490</td>\n",
       "      <td>424</td>\n",
       "      <td>460</td>\n",
       "      <td>0.469619</td>\n",
       "      <td>0.501134</td>\n",
       "      <td>0.070031</td>\n",
       "      <td>0.040816</td>\n",
       "    </tr>\n",
       "    <tr>\n",
       "      <th>1</th>\n",
       "      <td>anderson1.jpeg</td>\n",
       "      <td>971</td>\n",
       "      <td>882</td>\n",
       "      <td>mound</td>\n",
       "      <td>417</td>\n",
       "      <td>458</td>\n",
       "      <td>465</td>\n",
       "      <td>522</td>\n",
       "      <td>0.450566</td>\n",
       "      <td>0.559524</td>\n",
       "      <td>0.042225</td>\n",
       "      <td>0.064626</td>\n",
       "    </tr>\n",
       "    <tr>\n",
       "      <th>2</th>\n",
       "      <td>anderson1.jpeg</td>\n",
       "      <td>971</td>\n",
       "      <td>882</td>\n",
       "      <td>mound</td>\n",
       "      <td>462</td>\n",
       "      <td>488</td>\n",
       "      <td>463</td>\n",
       "      <td>526</td>\n",
       "      <td>0.489186</td>\n",
       "      <td>0.560658</td>\n",
       "      <td>0.026777</td>\n",
       "      <td>0.071429</td>\n",
       "    </tr>\n",
       "    <tr>\n",
       "      <th>6</th>\n",
       "      <td>anderson1._rotated1.jpg</td>\n",
       "      <td>971</td>\n",
       "      <td>882</td>\n",
       "      <td>mound</td>\n",
       "      <td>485</td>\n",
       "      <td>512</td>\n",
       "      <td>365</td>\n",
       "      <td>422</td>\n",
       "      <td>0.513388</td>\n",
       "      <td>0.446145</td>\n",
       "      <td>0.027806</td>\n",
       "      <td>0.064626</td>\n",
       "    </tr>\n",
       "    <tr>\n",
       "      <th>7</th>\n",
       "      <td>anderson1._rotated1.jpg</td>\n",
       "      <td>971</td>\n",
       "      <td>882</td>\n",
       "      <td>mound</td>\n",
       "      <td>518</td>\n",
       "      <td>547</td>\n",
       "      <td>358</td>\n",
       "      <td>422</td>\n",
       "      <td>0.548404</td>\n",
       "      <td>0.442177</td>\n",
       "      <td>0.029866</td>\n",
       "      <td>0.072562</td>\n",
       "    </tr>\n",
       "  </tbody>\n",
       "</table>\n",
       "</div>"
      ],
      "text/plain": [
       "                  filename  width  height   name  xmin  xmax  ymin  ymax  \\\n",
       "0           anderson1.jpeg    971     882  mound   422   490   424   460   \n",
       "1           anderson1.jpeg    971     882  mound   417   458   465   522   \n",
       "2           anderson1.jpeg    971     882  mound   462   488   463   526   \n",
       "6  anderson1._rotated1.jpg    971     882  mound   485   512   365   422   \n",
       "7  anderson1._rotated1.jpg    971     882  mound   518   547   358   422   \n",
       "\n",
       "   center_x  center_y         w         h  \n",
       "0  0.469619  0.501134  0.070031  0.040816  \n",
       "1  0.450566  0.559524  0.042225  0.064626  \n",
       "2  0.489186  0.560658  0.026777  0.071429  \n",
       "6  0.513388  0.446145  0.027806  0.064626  \n",
       "7  0.548404  0.442177  0.029866  0.072562  "
      ]
     },
     "execution_count": 33,
     "metadata": {},
     "output_type": "execute_result"
    }
   ],
   "source": [
    "train_df.head()"
   ]
  },
  {
   "cell_type": "code",
   "execution_count": 34,
   "id": "e7fd6da5",
   "metadata": {},
   "outputs": [
    {
     "data": {
      "text/html": [
       "<div>\n",
       "<style scoped>\n",
       "    .dataframe tbody tr th:only-of-type {\n",
       "        vertical-align: middle;\n",
       "    }\n",
       "\n",
       "    .dataframe tbody tr th {\n",
       "        vertical-align: top;\n",
       "    }\n",
       "\n",
       "    .dataframe thead th {\n",
       "        text-align: right;\n",
       "    }\n",
       "</style>\n",
       "<table border=\"1\" class=\"dataframe\">\n",
       "  <thead>\n",
       "    <tr style=\"text-align: right;\">\n",
       "      <th></th>\n",
       "      <th>filename</th>\n",
       "      <th>width</th>\n",
       "      <th>height</th>\n",
       "      <th>name</th>\n",
       "      <th>xmin</th>\n",
       "      <th>xmax</th>\n",
       "      <th>ymin</th>\n",
       "      <th>ymax</th>\n",
       "      <th>center_x</th>\n",
       "      <th>center_y</th>\n",
       "      <th>w</th>\n",
       "      <th>h</th>\n",
       "    </tr>\n",
       "  </thead>\n",
       "  <tbody>\n",
       "    <tr>\n",
       "      <th>3</th>\n",
       "      <td>anderson1._rotated.jpg</td>\n",
       "      <td>882</td>\n",
       "      <td>971</td>\n",
       "      <td>mound</td>\n",
       "      <td>433</td>\n",
       "      <td>457</td>\n",
       "      <td>493</td>\n",
       "      <td>533</td>\n",
       "      <td>0.504535</td>\n",
       "      <td>0.528321</td>\n",
       "      <td>0.027211</td>\n",
       "      <td>0.041195</td>\n",
       "    </tr>\n",
       "    <tr>\n",
       "      <th>4</th>\n",
       "      <td>anderson1._rotated.jpg</td>\n",
       "      <td>882</td>\n",
       "      <td>971</td>\n",
       "      <td>mound</td>\n",
       "      <td>464</td>\n",
       "      <td>518</td>\n",
       "      <td>514</td>\n",
       "      <td>548</td>\n",
       "      <td>0.556689</td>\n",
       "      <td>0.546859</td>\n",
       "      <td>0.061224</td>\n",
       "      <td>0.035015</td>\n",
       "    </tr>\n",
       "    <tr>\n",
       "      <th>5</th>\n",
       "      <td>anderson1._rotated.jpg</td>\n",
       "      <td>882</td>\n",
       "      <td>971</td>\n",
       "      <td>mound</td>\n",
       "      <td>462</td>\n",
       "      <td>521</td>\n",
       "      <td>486</td>\n",
       "      <td>512</td>\n",
       "      <td>0.557256</td>\n",
       "      <td>0.513903</td>\n",
       "      <td>0.066893</td>\n",
       "      <td>0.026777</td>\n",
       "    </tr>\n",
       "    <tr>\n",
       "      <th>9</th>\n",
       "      <td>anderson1._rotated2.jpg</td>\n",
       "      <td>882</td>\n",
       "      <td>971</td>\n",
       "      <td>mound</td>\n",
       "      <td>424</td>\n",
       "      <td>450</td>\n",
       "      <td>437</td>\n",
       "      <td>478</td>\n",
       "      <td>0.495465</td>\n",
       "      <td>0.471164</td>\n",
       "      <td>0.029478</td>\n",
       "      <td>0.042225</td>\n",
       "    </tr>\n",
       "    <tr>\n",
       "      <th>10</th>\n",
       "      <td>anderson1._rotated2.jpg</td>\n",
       "      <td>882</td>\n",
       "      <td>971</td>\n",
       "      <td>mound</td>\n",
       "      <td>364</td>\n",
       "      <td>419</td>\n",
       "      <td>459</td>\n",
       "      <td>487</td>\n",
       "      <td>0.443878</td>\n",
       "      <td>0.487127</td>\n",
       "      <td>0.062358</td>\n",
       "      <td>0.028836</td>\n",
       "    </tr>\n",
       "  </tbody>\n",
       "</table>\n",
       "</div>"
      ],
      "text/plain": [
       "                   filename  width  height   name  xmin  xmax  ymin  ymax  \\\n",
       "3    anderson1._rotated.jpg    882     971  mound   433   457   493   533   \n",
       "4    anderson1._rotated.jpg    882     971  mound   464   518   514   548   \n",
       "5    anderson1._rotated.jpg    882     971  mound   462   521   486   512   \n",
       "9   anderson1._rotated2.jpg    882     971  mound   424   450   437   478   \n",
       "10  anderson1._rotated2.jpg    882     971  mound   364   419   459   487   \n",
       "\n",
       "    center_x  center_y         w         h  \n",
       "3   0.504535  0.528321  0.027211  0.041195  \n",
       "4   0.556689  0.546859  0.061224  0.035015  \n",
       "5   0.557256  0.513903  0.066893  0.026777  \n",
       "9   0.495465  0.471164  0.029478  0.042225  \n",
       "10  0.443878  0.487127  0.062358  0.028836  "
      ]
     },
     "execution_count": 34,
     "metadata": {},
     "output_type": "execute_result"
    }
   ],
   "source": [
    "test_df.head()"
   ]
  },
  {
   "cell_type": "code",
   "execution_count": 35,
   "id": "f5663855",
   "metadata": {},
   "outputs": [],
   "source": [
    "def label_encoding(x):\n",
    "    labels = {'mound':0}\n",
    "    return labels[x]"
   ]
  },
  {
   "cell_type": "code",
   "execution_count": 36,
   "id": "8097e42b",
   "metadata": {},
   "outputs": [],
   "source": [
    "train_df['id'] = train_df['name'].apply(label_encoding)\n",
    "test_df['id'] = test_df['name'].apply(label_encoding)"
   ]
  },
  {
   "cell_type": "code",
   "execution_count": 37,
   "id": "c478fd7d",
   "metadata": {},
   "outputs": [
    {
     "data": {
      "text/html": [
       "<div>\n",
       "<style scoped>\n",
       "    .dataframe tbody tr th:only-of-type {\n",
       "        vertical-align: middle;\n",
       "    }\n",
       "\n",
       "    .dataframe tbody tr th {\n",
       "        vertical-align: top;\n",
       "    }\n",
       "\n",
       "    .dataframe thead th {\n",
       "        text-align: right;\n",
       "    }\n",
       "</style>\n",
       "<table border=\"1\" class=\"dataframe\">\n",
       "  <thead>\n",
       "    <tr style=\"text-align: right;\">\n",
       "      <th></th>\n",
       "      <th>filename</th>\n",
       "      <th>width</th>\n",
       "      <th>height</th>\n",
       "      <th>name</th>\n",
       "      <th>xmin</th>\n",
       "      <th>xmax</th>\n",
       "      <th>ymin</th>\n",
       "      <th>ymax</th>\n",
       "      <th>center_x</th>\n",
       "      <th>center_y</th>\n",
       "      <th>w</th>\n",
       "      <th>h</th>\n",
       "      <th>id</th>\n",
       "    </tr>\n",
       "  </thead>\n",
       "  <tbody>\n",
       "    <tr>\n",
       "      <th>0</th>\n",
       "      <td>anderson1.jpeg</td>\n",
       "      <td>971</td>\n",
       "      <td>882</td>\n",
       "      <td>mound</td>\n",
       "      <td>422</td>\n",
       "      <td>490</td>\n",
       "      <td>424</td>\n",
       "      <td>460</td>\n",
       "      <td>0.469619</td>\n",
       "      <td>0.501134</td>\n",
       "      <td>0.070031</td>\n",
       "      <td>0.040816</td>\n",
       "      <td>0</td>\n",
       "    </tr>\n",
       "    <tr>\n",
       "      <th>1</th>\n",
       "      <td>anderson1.jpeg</td>\n",
       "      <td>971</td>\n",
       "      <td>882</td>\n",
       "      <td>mound</td>\n",
       "      <td>417</td>\n",
       "      <td>458</td>\n",
       "      <td>465</td>\n",
       "      <td>522</td>\n",
       "      <td>0.450566</td>\n",
       "      <td>0.559524</td>\n",
       "      <td>0.042225</td>\n",
       "      <td>0.064626</td>\n",
       "      <td>0</td>\n",
       "    </tr>\n",
       "    <tr>\n",
       "      <th>2</th>\n",
       "      <td>anderson1.jpeg</td>\n",
       "      <td>971</td>\n",
       "      <td>882</td>\n",
       "      <td>mound</td>\n",
       "      <td>462</td>\n",
       "      <td>488</td>\n",
       "      <td>463</td>\n",
       "      <td>526</td>\n",
       "      <td>0.489186</td>\n",
       "      <td>0.560658</td>\n",
       "      <td>0.026777</td>\n",
       "      <td>0.071429</td>\n",
       "      <td>0</td>\n",
       "    </tr>\n",
       "    <tr>\n",
       "      <th>6</th>\n",
       "      <td>anderson1._rotated1.jpg</td>\n",
       "      <td>971</td>\n",
       "      <td>882</td>\n",
       "      <td>mound</td>\n",
       "      <td>485</td>\n",
       "      <td>512</td>\n",
       "      <td>365</td>\n",
       "      <td>422</td>\n",
       "      <td>0.513388</td>\n",
       "      <td>0.446145</td>\n",
       "      <td>0.027806</td>\n",
       "      <td>0.064626</td>\n",
       "      <td>0</td>\n",
       "    </tr>\n",
       "    <tr>\n",
       "      <th>7</th>\n",
       "      <td>anderson1._rotated1.jpg</td>\n",
       "      <td>971</td>\n",
       "      <td>882</td>\n",
       "      <td>mound</td>\n",
       "      <td>518</td>\n",
       "      <td>547</td>\n",
       "      <td>358</td>\n",
       "      <td>422</td>\n",
       "      <td>0.548404</td>\n",
       "      <td>0.442177</td>\n",
       "      <td>0.029866</td>\n",
       "      <td>0.072562</td>\n",
       "      <td>0</td>\n",
       "    </tr>\n",
       "    <tr>\n",
       "      <th>8</th>\n",
       "      <td>anderson1._rotated1.jpg</td>\n",
       "      <td>971</td>\n",
       "      <td>882</td>\n",
       "      <td>mound</td>\n",
       "      <td>491</td>\n",
       "      <td>537</td>\n",
       "      <td>425</td>\n",
       "      <td>448</td>\n",
       "      <td>0.529351</td>\n",
       "      <td>0.494898</td>\n",
       "      <td>0.047374</td>\n",
       "      <td>0.026077</td>\n",
       "      <td>0</td>\n",
       "    </tr>\n",
       "    <tr>\n",
       "      <th>16</th>\n",
       "      <td>anderson2._rotated.jpg</td>\n",
       "      <td>882</td>\n",
       "      <td>970</td>\n",
       "      <td>mound</td>\n",
       "      <td>360</td>\n",
       "      <td>495</td>\n",
       "      <td>427</td>\n",
       "      <td>553</td>\n",
       "      <td>0.484694</td>\n",
       "      <td>0.505155</td>\n",
       "      <td>0.153061</td>\n",
       "      <td>0.129897</td>\n",
       "      <td>0</td>\n",
       "    </tr>\n",
       "    <tr>\n",
       "      <th>17</th>\n",
       "      <td>anderson2._rotated.jpg</td>\n",
       "      <td>882</td>\n",
       "      <td>970</td>\n",
       "      <td>mound</td>\n",
       "      <td>486</td>\n",
       "      <td>537</td>\n",
       "      <td>618</td>\n",
       "      <td>662</td>\n",
       "      <td>0.579932</td>\n",
       "      <td>0.659794</td>\n",
       "      <td>0.057823</td>\n",
       "      <td>0.045361</td>\n",
       "      <td>0</td>\n",
       "    </tr>\n",
       "    <tr>\n",
       "      <th>18</th>\n",
       "      <td>anderson2._rotated.jpg</td>\n",
       "      <td>882</td>\n",
       "      <td>970</td>\n",
       "      <td>mound</td>\n",
       "      <td>347</td>\n",
       "      <td>424</td>\n",
       "      <td>561</td>\n",
       "      <td>642</td>\n",
       "      <td>0.437075</td>\n",
       "      <td>0.620103</td>\n",
       "      <td>0.087302</td>\n",
       "      <td>0.083505</td>\n",
       "      <td>0</td>\n",
       "    </tr>\n",
       "    <tr>\n",
       "      <th>19</th>\n",
       "      <td>anderson2._rotated.jpg</td>\n",
       "      <td>882</td>\n",
       "      <td>970</td>\n",
       "      <td>mound</td>\n",
       "      <td>485</td>\n",
       "      <td>523</td>\n",
       "      <td>418</td>\n",
       "      <td>460</td>\n",
       "      <td>0.571429</td>\n",
       "      <td>0.452577</td>\n",
       "      <td>0.043084</td>\n",
       "      <td>0.043299</td>\n",
       "      <td>0</td>\n",
       "    </tr>\n",
       "  </tbody>\n",
       "</table>\n",
       "</div>"
      ],
      "text/plain": [
       "                   filename  width  height   name  xmin  xmax  ymin  ymax  \\\n",
       "0            anderson1.jpeg    971     882  mound   422   490   424   460   \n",
       "1            anderson1.jpeg    971     882  mound   417   458   465   522   \n",
       "2            anderson1.jpeg    971     882  mound   462   488   463   526   \n",
       "6   anderson1._rotated1.jpg    971     882  mound   485   512   365   422   \n",
       "7   anderson1._rotated1.jpg    971     882  mound   518   547   358   422   \n",
       "8   anderson1._rotated1.jpg    971     882  mound   491   537   425   448   \n",
       "16   anderson2._rotated.jpg    882     970  mound   360   495   427   553   \n",
       "17   anderson2._rotated.jpg    882     970  mound   486   537   618   662   \n",
       "18   anderson2._rotated.jpg    882     970  mound   347   424   561   642   \n",
       "19   anderson2._rotated.jpg    882     970  mound   485   523   418   460   \n",
       "\n",
       "    center_x  center_y         w         h  id  \n",
       "0   0.469619  0.501134  0.070031  0.040816   0  \n",
       "1   0.450566  0.559524  0.042225  0.064626   0  \n",
       "2   0.489186  0.560658  0.026777  0.071429   0  \n",
       "6   0.513388  0.446145  0.027806  0.064626   0  \n",
       "7   0.548404  0.442177  0.029866  0.072562   0  \n",
       "8   0.529351  0.494898  0.047374  0.026077   0  \n",
       "16  0.484694  0.505155  0.153061  0.129897   0  \n",
       "17  0.579932  0.659794  0.057823  0.045361   0  \n",
       "18  0.437075  0.620103  0.087302  0.083505   0  \n",
       "19  0.571429  0.452577  0.043084  0.043299   0  "
      ]
     },
     "execution_count": 37,
     "metadata": {},
     "output_type": "execute_result"
    }
   ],
   "source": [
    "train_df.head(10)"
   ]
  },
  {
   "cell_type": "code",
   "execution_count": 38,
   "id": "1b593e59",
   "metadata": {},
   "outputs": [],
   "source": [
    "import os\n",
    "from shutil import move"
   ]
  },
  {
   "cell_type": "code",
   "execution_count": 39,
   "id": "c6202068",
   "metadata": {},
   "outputs": [],
   "source": [
    "train_folder = 'data_images/train'\n",
    "test_folder = 'data_images/test'\n",
    "\n",
    "\n",
    "os.mkdir(train_folder)\n",
    "os.mkdir(test_folder)"
   ]
  },
  {
   "cell_type": "code",
   "execution_count": 42,
   "id": "08369130",
   "metadata": {},
   "outputs": [],
   "source": [
    "cols = ['filename','id','center_x','center_y', 'w', 'h']\n",
    "groupby_obj_train = train_df[cols].groupby('filename')\n",
    "groupby_obj_test = test_df[cols].groupby('filename')"
   ]
  },
  {
   "cell_type": "code",
   "execution_count": 43,
   "id": "5ffc04f3",
   "metadata": {},
   "outputs": [],
   "source": [
    "def save_data(filename, folder_path, group_obj):\n",
    "    src = os.path.join('data_images',filename)\n",
    "    dst = os.path.join(folder_path,filename)\n",
    "    move(src,dst)\n",
    "    text_filename = os.path.join(folder_path,\n",
    "                                 os.path.splitext(filename)[0]+'.txt')\n",
    "    group_obj.get_group(filename).set_index('filename').to_csv(text_filename,sep=' ',index=False,header=False)\n",
    "    "
   ]
  },
  {
   "cell_type": "code",
   "execution_count": 44,
   "id": "6481e93d",
   "metadata": {},
   "outputs": [],
   "source": [
    "filename_series = pd.Series(groupby_obj_train.groups.keys())"
   ]
  },
  {
   "cell_type": "code",
   "execution_count": 45,
   "id": "b132cf21",
   "metadata": {},
   "outputs": [
    {
     "data": {
      "text/plain": [
       "0      None\n",
       "1      None\n",
       "2      None\n",
       "3      None\n",
       "4      None\n",
       "       ... \n",
       "104    None\n",
       "105    None\n",
       "106    None\n",
       "107    None\n",
       "108    None\n",
       "Length: 109, dtype: object"
      ]
     },
     "execution_count": 45,
     "metadata": {},
     "output_type": "execute_result"
    }
   ],
   "source": [
    "filename_series.apply(save_data,args=(train_folder,groupby_obj_train))"
   ]
  },
  {
   "cell_type": "code",
   "execution_count": null,
   "id": "51f1f18e",
   "metadata": {},
   "outputs": [],
   "source": []
  },
  {
   "cell_type": "code",
   "execution_count": 46,
   "id": "b4ae7a09",
   "metadata": {},
   "outputs": [
    {
     "data": {
      "text/plain": [
       "0     None\n",
       "1     None\n",
       "2     None\n",
       "3     None\n",
       "4     None\n",
       "5     None\n",
       "6     None\n",
       "7     None\n",
       "8     None\n",
       "9     None\n",
       "10    None\n",
       "11    None\n",
       "12    None\n",
       "13    None\n",
       "14    None\n",
       "15    None\n",
       "16    None\n",
       "17    None\n",
       "18    None\n",
       "19    None\n",
       "20    None\n",
       "21    None\n",
       "22    None\n",
       "23    None\n",
       "24    None\n",
       "25    None\n",
       "26    None\n",
       "dtype: object"
      ]
     },
     "execution_count": 46,
     "metadata": {},
     "output_type": "execute_result"
    }
   ],
   "source": [
    "filename_series_test = pd.Series(groupby_obj_test.groups.keys())\n",
    "filename_series_test.apply(save_data,args=(test_folder,groupby_obj_test))"
   ]
  },
  {
   "cell_type": "code",
   "execution_count": null,
   "id": "d3bb9928",
   "metadata": {},
   "outputs": [],
   "source": []
  },
  {
   "cell_type": "code",
   "execution_count": null,
   "id": "f525f7bf",
   "metadata": {},
   "outputs": [],
   "source": []
  },
  {
   "cell_type": "code",
   "execution_count": null,
   "id": "ccf2ace1",
   "metadata": {},
   "outputs": [],
   "source": []
  },
  {
   "cell_type": "code",
   "execution_count": null,
   "id": "5ee3c30e",
   "metadata": {},
   "outputs": [],
   "source": []
  },
  {
   "cell_type": "code",
   "execution_count": null,
   "id": "9398b27e",
   "metadata": {},
   "outputs": [],
   "source": []
  },
  {
   "cell_type": "code",
   "execution_count": null,
   "id": "8d6c834a",
   "metadata": {},
   "outputs": [],
   "source": []
  },
  {
   "cell_type": "code",
   "execution_count": null,
   "id": "296fe986",
   "metadata": {},
   "outputs": [],
   "source": []
  },
  {
   "cell_type": "code",
   "execution_count": null,
   "id": "2fb89e8a",
   "metadata": {},
   "outputs": [],
   "source": []
  },
  {
   "cell_type": "code",
   "execution_count": null,
   "id": "d66fd254",
   "metadata": {},
   "outputs": [],
   "source": []
  },
  {
   "cell_type": "code",
   "execution_count": null,
   "id": "08f5e8f2",
   "metadata": {},
   "outputs": [],
   "source": []
  },
  {
   "cell_type": "code",
   "execution_count": null,
   "id": "967db8d8",
   "metadata": {},
   "outputs": [],
   "source": []
  }
 ],
 "metadata": {
  "kernelspec": {
   "display_name": "Python 3",
   "language": "python",
   "name": "python3"
  },
  "language_info": {
   "codemirror_mode": {
    "name": "ipython",
    "version": 3
   },
   "file_extension": ".py",
   "mimetype": "text/x-python",
   "name": "python",
   "nbconvert_exporter": "python",
   "pygments_lexer": "ipython3",
   "version": "3.8.8"
  }
 },
 "nbformat": 4,
 "nbformat_minor": 5
}
